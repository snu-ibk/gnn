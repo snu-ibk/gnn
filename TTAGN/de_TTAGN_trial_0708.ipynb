{
  "cells": [
    {
      "cell_type": "markdown",
      "metadata": {
        "colab_type": "text",
        "id": "view-in-github"
      },
      "source": [
        "<a href=\"https://colab.research.google.com/github/snu-ibk/gnn/blob/main/TTAGN/de_TTAGN_trial_0708.ipynb\" target=\"_parent\"><img src=\"https://colab.research.google.com/assets/colab-badge.svg\" alt=\"Open In Colab\"/></a>"
      ]
    },
    {
      "cell_type": "code",
      "execution_count": 1,
      "metadata": {
        "colab": {
          "base_uri": "https://localhost:8080/"
        },
        "id": "lfVvPF3vDofE",
        "outputId": "d614a78a-93fa-435d-e8e2-3b0d61050c0d"
      },
      "outputs": [
        {
          "name": "stdout",
          "output_type": "stream",
          "text": [
            "Cloning into 'Inductive-representation-learning-on-temporal-graphs'...\n",
            "remote: Enumerating objects: 48, done.\u001b[K\n",
            "remote: Counting objects: 100% (31/31), done.\u001b[K\n",
            "remote: Compressing objects: 100% (24/24), done.\u001b[K\n",
            "remote: Total 48 (delta 19), reused 7 (delta 7), pack-reused 17\u001b[K\n",
            "Receiving objects: 100% (48/48), 314.82 KiB | 16.57 MiB/s, done.\n",
            "Resolving deltas: 100% (19/19), done.\n"
          ]
        }
      ],
      "source": [
        "!git clone https://github.com/StatsDLMathsRecomSys/Inductive-representation-learning-on-temporal-graphs.git"
      ]
    },
    {
      "cell_type": "code",
      "execution_count": 2,
      "metadata": {
        "colab": {
          "base_uri": "https://localhost:8080/"
        },
        "id": "NyT2Z4p6EsDg",
        "outputId": "ef5553fa-5efa-4afa-b04f-325427e32723"
      },
      "outputs": [
        {
          "name": "stdout",
          "output_type": "stream",
          "text": [
            "\u001b[0m\u001b[01;34mInductive-representation-learning-on-temporal-graphs\u001b[0m/  \u001b[01;34msample_data\u001b[0m/\n"
          ]
        }
      ],
      "source": [
        "ls"
      ]
    },
    {
      "cell_type": "code",
      "execution_count": 3,
      "metadata": {
        "colab": {
          "base_uri": "https://localhost:8080/"
        },
        "id": "WO0UJgscEuxG",
        "outputId": "97d93355-2273-424e-93e1-9be29828a579"
      },
      "outputs": [
        {
          "name": "stdout",
          "output_type": "stream",
          "text": [
            "/content/Inductive-representation-learning-on-temporal-graphs\n"
          ]
        }
      ],
      "source": [
        "cd Inductive-representation-learning-on-temporal-graphs"
      ]
    },
    {
      "cell_type": "code",
      "execution_count": 4,
      "metadata": {
        "colab": {
          "base_uri": "https://localhost:8080/"
        },
        "id": "OYf41P8QHKIX",
        "outputId": "f86cafc7-cd6f-42bf-f8fb-3123ec7e887c"
      },
      "outputs": [
        {
          "name": "stdout",
          "output_type": "stream",
          "text": [
            "--2024-07-08 07:09:45--  http://snap.stanford.edu/jodie/reddit.csv\n",
            "Resolving snap.stanford.edu (snap.stanford.edu)... 171.64.75.80\n",
            "Connecting to snap.stanford.edu (snap.stanford.edu)|171.64.75.80|:80... connected.\n",
            "HTTP request sent, awaiting response... 200 OK\n",
            "Length: 2368348656 (2.2G) [text/csv]\n",
            "Saving to: ‘processed/reddit.csv’\n",
            "\n",
            "reddit.csv          100%[===================>]   2.21G  15.9MB/s    in 2m 40s  \n",
            "\n",
            "2024-07-08 07:12:25 (14.1 MB/s) - ‘processed/reddit.csv’ saved [2368348656/2368348656]\n",
            "\n"
          ]
        }
      ],
      "source": [
        "!wget -P processed http://snap.stanford.edu/jodie/reddit.csv"
      ]
    },
    {
      "cell_type": "code",
      "execution_count": 5,
      "metadata": {
        "colab": {
          "base_uri": "https://localhost:8080/"
        },
        "id": "-0pJ-hUlHPZ0",
        "outputId": "665fc4f2-c74c-4253-c1d7-e6c13f98cd8e"
      },
      "outputs": [
        {
          "name": "stdout",
          "output_type": "stream",
          "text": [
            "--2024-07-08 07:12:25--  http://snap.stanford.edu/jodie/wikipedia.csv\n",
            "Resolving snap.stanford.edu (snap.stanford.edu)... 171.64.75.80\n",
            "Connecting to snap.stanford.edu (snap.stanford.edu)|171.64.75.80|:80... connected.\n",
            "HTTP request sent, awaiting response... 200 OK\n",
            "Length: 559937473 (534M) [text/csv]\n",
            "Saving to: ‘processed/wikipedia.csv’\n",
            "\n",
            "wikipedia.csv       100%[===================>] 534.00M  15.1MB/s    in 39s     \n",
            "\n",
            "2024-07-08 07:13:05 (13.7 MB/s) - ‘processed/wikipedia.csv’ saved [559937473/559937473]\n",
            "\n"
          ]
        }
      ],
      "source": [
        "!wget -P processed http://snap.stanford.edu/jodie/wikipedia.csv"
      ]
    },
    {
      "cell_type": "code",
      "execution_count": 6,
      "metadata": {
        "colab": {
          "base_uri": "https://localhost:8080/"
        },
        "id": "asUOLdJiDxrb",
        "outputId": "13e2b8bf-00ed-42b1-8175-88b927ff41dc"
      },
      "outputs": [
        {
          "name": "stdout",
          "output_type": "stream",
          "text": [
            "user_id,item_id,timestamp,state_label,comma_separated_list_of_features\n",
            "\n",
            "8226\n",
            "999\n",
            "8227\n",
            "9227\n",
            "(157474, 172)\n",
            "(157475, 172)\n"
          ]
        }
      ],
      "source": [
        "!python process.py"
      ]
    },
    {
      "cell_type": "code",
      "execution_count": 7,
      "metadata": {
        "id": "KSpJJjCNK4fy"
      },
      "outputs": [],
      "source": [
        "# 파일 수정\n",
        "file_path = \"learn_edge.py\"\n",
        "\n",
        "with open(file_path, \"r\") as file:\n",
        "    content = file.readlines()\n",
        "\n",
        "# 파일 수정\n",
        "# content.insert(0, \"# This is a modified file\\n\")\n",
        "if len(content) >= 55:\n",
        "    content[54] = \"# \" + content[54]\n",
        "\n",
        "# 파일 다시 저장\n",
        "with open(file_path, \"w\") as file:\n",
        "    file.writelines(content)"
      ]
    },
    {
      "cell_type": "code",
      "execution_count": 9,
      "metadata": {
        "colab": {
          "base_uri": "https://localhost:8080/"
        },
        "id": "vHz2Uq5zEq4u",
        "outputId": "a5351c6c-2536-4aee-eb79-ca7b963e226d"
      },
      "outputs": [
        {
          "name": "stdout",
          "output_type": "stream",
          "text": [
            "INFO:root:Namespace(data='wikipedia', bs=200, prefix='hello_world', n_degree=20, n_head=2, n_epoch=3, n_layer=2, lr=0.0001, drop_out=0.1, gpu=0, node_dim=100, time_dim=100, agg_method='attn', attn_mode='prod', time='time', uniform=True)\n",
            "/content/Inductive-representation-learning-on-temporal-graphs/learn_edge.py:140: DeprecationWarning: Sampling from a set deprecated\n",
            "since Python 3.9 and will be removed in a subsequent version.\n",
            "  mask_node_set = set(random.sample(set(src_l[ts_l > val_time]).union(set(dst_l[ts_l > val_time])), int(0.1 * num_total_unique_nodes)))\n",
            "INFO:module:Aggregation uses attention model\n",
            "INFO:module:Using scaled prod attention\n",
            "INFO:module:Using scaled prod attention\n",
            "INFO:module:Using time encoding\n",
            "INFO:root:num of training instances: 81029\n",
            "INFO:root:num of batches per epoch: 406\n",
            "INFO:root:start 0 epoch\n",
            "/usr/local/lib/python3.10/dist-packages/numpy/core/fromnumeric.py:3504: RuntimeWarning: Mean of empty slice.\n",
            "  return _methods._mean(a, axis=axis, dtype=dtype,\n",
            "/usr/local/lib/python3.10/dist-packages/numpy/core/_methods.py:129: RuntimeWarning: invalid value encountered in scalar divide\n",
            "  ret = ret.dtype.type(ret / rcount)\n",
            "/usr/local/lib/python3.10/dist-packages/numpy/core/fromnumeric.py:3504: RuntimeWarning: Mean of empty slice.\n",
            "  return _methods._mean(a, axis=axis, dtype=dtype,\n",
            "/usr/local/lib/python3.10/dist-packages/numpy/core/_methods.py:129: RuntimeWarning: invalid value encountered in scalar divide\n",
            "  ret = ret.dtype.type(ret / rcount)\n",
            "INFO:root:epoch: 0:\n",
            "INFO:root:Epoch mean loss: 0.8351073306182335\n",
            "INFO:root:train acc: 0.7995847994370163, val acc: 0.813049915397631, new node val acc: 0.8064006650041563\n",
            "INFO:root:train auc: 0.8862234593344727, val auc: 0.8979631979695432, new node val auc: 0.8955306178996951\n",
            "INFO:root:train ap: 0.8844826142749095, val ap: 0.8993351598966988, new node val ap: 0.9001638997916601\n",
            "INFO:root:start 1 epoch\n",
            "/usr/local/lib/python3.10/dist-packages/numpy/core/fromnumeric.py:3504: RuntimeWarning: Mean of empty slice.\n",
            "  return _methods._mean(a, axis=axis, dtype=dtype,\n",
            "/usr/local/lib/python3.10/dist-packages/numpy/core/_methods.py:129: RuntimeWarning: invalid value encountered in scalar divide\n",
            "  ret = ret.dtype.type(ret / rcount)\n",
            "/usr/local/lib/python3.10/dist-packages/numpy/core/fromnumeric.py:3504: RuntimeWarning: Mean of empty slice.\n",
            "  return _methods._mean(a, axis=axis, dtype=dtype,\n",
            "/usr/local/lib/python3.10/dist-packages/numpy/core/_methods.py:129: RuntimeWarning: invalid value encountered in scalar divide\n",
            "  ret = ret.dtype.type(ret / rcount)\n",
            "INFO:root:epoch: 1:\n",
            "INFO:root:Epoch mean loss: 0.6543701084816984\n",
            "INFO:root:train acc: 0.8556148838845882, val acc: 0.8382191201353638, new node val acc: 0.8332086450540316\n",
            "INFO:root:train auc: 0.9346236880466473, val auc: 0.9189988719684151, new node val auc: 0.9182044887780549\n",
            "INFO:root:train ap: 0.9339637893391514, val ap: 0.9209338826715224, new node val ap: 0.9225419251680801\n",
            "INFO:root:start 2 epoch\n",
            "/usr/local/lib/python3.10/dist-packages/numpy/core/fromnumeric.py:3504: RuntimeWarning: Mean of empty slice.\n",
            "  return _methods._mean(a, axis=axis, dtype=dtype,\n",
            "/usr/local/lib/python3.10/dist-packages/numpy/core/_methods.py:129: RuntimeWarning: invalid value encountered in scalar divide\n",
            "  ret = ret.dtype.type(ret / rcount)\n",
            "/usr/local/lib/python3.10/dist-packages/numpy/core/fromnumeric.py:3504: RuntimeWarning: Mean of empty slice.\n",
            "  return _methods._mean(a, axis=axis, dtype=dtype,\n",
            "/usr/local/lib/python3.10/dist-packages/numpy/core/_methods.py:129: RuntimeWarning: invalid value encountered in scalar divide\n",
            "  ret = ret.dtype.type(ret / rcount)\n",
            "INFO:root:epoch: 2:\n",
            "INFO:root:Epoch mean loss: 0.60172495253274\n",
            "INFO:root:train acc: 0.869436136523575, val acc: 0.8503595600676818, new node val acc: 0.84380714879468\n",
            "INFO:root:train auc: 0.9449237640745953, val auc: 0.9279815284827976, new node val auc: 0.9243654752008866\n",
            "INFO:root:train ap: 0.9446291912564362, val ap: 0.9298481294425053, new node val ap: 0.9272561538025158\n",
            "/usr/local/lib/python3.10/dist-packages/numpy/core/fromnumeric.py:3504: RuntimeWarning: Mean of empty slice.\n",
            "  return _methods._mean(a, axis=axis, dtype=dtype,\n",
            "/usr/local/lib/python3.10/dist-packages/numpy/core/_methods.py:129: RuntimeWarning: invalid value encountered in scalar divide\n",
            "  ret = ret.dtype.type(ret / rcount)\n",
            "/usr/local/lib/python3.10/dist-packages/numpy/core/fromnumeric.py:3504: RuntimeWarning: Mean of empty slice.\n",
            "  return _methods._mean(a, axis=axis, dtype=dtype,\n",
            "/usr/local/lib/python3.10/dist-packages/numpy/core/_methods.py:129: RuntimeWarning: invalid value encountered in scalar divide\n",
            "  ret = ret.dtype.type(ret / rcount)\n",
            "INFO:root:Test statistics: Old nodes -- acc: 0.8385575296108291, auc: 0.9172849689791314, ap: 0.9184071812648502\n",
            "INFO:root:Test statistics: New nodes -- acc: 0.8240043843624405, auc: 0.9092912237358711, ap: 0.9127273151682856\n",
            "INFO:root:Saving TGAN model\n",
            "INFO:root:TGAN models saved\n"
          ]
        }
      ],
      "source": [
        "!python -u learn_edge.py -d wikipedia --bs 200 --uniform --n_epoch 3 --n_degree 20 --agg_method attn --attn_mode prod --gpu 0 --n_head 2 --prefix hello_world"
      ]
    },
    {
      "cell_type": "code",
      "execution_count": null,
      "metadata": {
        "id": "fZ1IGgdfV6Uv"
      },
      "outputs": [],
      "source": [
        "# 파일 수정\n",
        "file_path = \"learn_node.py\"\n",
        "\n",
        "with open(file_path, \"r\") as file:\n",
        "    content = file.readlines()\n",
        "\n",
        "# 파일 수정\n",
        "# content.insert(0, \"# This is a modified file\\n\")\n",
        "if len(content) >= 26:\n",
        "    content[25] = content[25][:-16] + ')'\n",
        "\n",
        "# 파일 다시 저장\n",
        "with open(file_path, \"w\") as file:\n",
        "    file.writelines(content)"
      ]
    },
    {
      "cell_type": "code",
      "execution_count": 13,
      "metadata": {
        "colab": {
          "base_uri": "https://localhost:8080/"
        },
        "id": "CMnxyMv8IGrZ",
        "outputId": "467a821d-914b-42ac-f5a3-ad330adac4f2"
      },
      "outputs": [
        {
          "name": "stdout",
          "output_type": "stream",
          "text": [
            "INFO:root:Namespace(data='wikipedia', bs=100, prefix='hello_world', n_degree=20, n_neg=1, n_head=2, n_epoch=3, n_layer=2, lr=0.0003, tune=False, drop_out=0.1, gpu=0, node_dim=None, time_dim=None, agg_method='attn', attn_mode='prod', time='time', new_node=False, uniform=True)\n",
            "INFO:root:Training use all train data\n",
            "INFO:module:Aggregation uses attention model\n",
            "INFO:module:Using scaled prod attention\n",
            "INFO:module:Using scaled prod attention\n",
            "INFO:module:Using time encoding\n",
            "DEBUG:root:num of training instances: 133853\n",
            "DEBUG:root:num of batches per epoch: 1339\n",
            "INFO:root:loading saved TGAN model\n",
            "INFO:root:TGAN models loaded\n",
            "INFO:root:Start training node classification task\n",
            "  0% 0/3 [00:00<?, ?it/s]INFO:root:train auc: 0.7412524906341778, test auc: 0.7835544656387003\n",
            " 33% 1/3 [00:17<00:35, 17.88s/it]INFO:root:train auc: 0.7918207746564135, test auc: 0.8136502446529168\n",
            " 67% 2/3 [00:35<00:17, 17.90s/it]INFO:root:train auc: 0.8105577377431396, test auc: 0.8238017019668629\n",
            "100% 3/3 [00:52<00:00, 17.56s/it]\n",
            "INFO:root:test auc: 0.8281433754776419\n"
          ]
        }
      ],
      "source": [
        "!python -u learn_node.py -d wikipedia --bs 100 --uniform  --n_epoch 3 --n_degree 20 --agg_method attn --attn_mode prod --gpu 0 --n_head 2 --prefix hello_world"
      ]
    },
    {
      "cell_type": "code",
      "execution_count": null,
      "metadata": {
        "id": "AFd3s_ixIMRA"
      },
      "outputs": [],
      "source": []
    }
  ],
  "metadata": {
    "accelerator": "GPU",
    "colab": {
      "authorship_tag": "ABX9TyMXdAwO7X1HVvaMWi5LNPmr",
      "gpuType": "T4",
      "include_colab_link": true,
      "provenance": []
    },
    "kernelspec": {
      "display_name": "Python 3",
      "name": "python3"
    },
    "language_info": {
      "name": "python"
    }
  },
  "nbformat": 4,
  "nbformat_minor": 0
}
